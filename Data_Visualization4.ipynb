{
  "nbformat": 4,
  "nbformat_minor": 0,
  "metadata": {
    "colab": {
      "provenance": []
    },
    "kernelspec": {
      "name": "python3",
      "display_name": "Python 3"
    },
    "language_info": {
      "name": "python"
    }
  },
  "cells": [
    {
      "cell_type": "markdown",
      "source": [
        "<h1>Big -o"
      ],
      "metadata": {
        "id": "w3xRh3Olz48j"
      }
    },
    {
      "cell_type": "code",
      "source": [
        "def constant_big_o(list):\n",
        "  print(list[0])"
      ],
      "metadata": {
        "id": "Xf7wc9VGz5-A"
      },
      "execution_count": 3,
      "outputs": []
    },
    {
      "cell_type": "code",
      "source": [
        "constant_big_o([1,2,3,4,5,6])"
      ],
      "metadata": {
        "colab": {
          "base_uri": "https://localhost:8080/"
        },
        "id": "FqYS8TUezz9L",
        "outputId": "f6d469e1-fb88-4369-e456-113016cccc1d"
      },
      "execution_count": 4,
      "outputs": [
        {
          "output_type": "stream",
          "name": "stdout",
          "text": [
            "1\n"
          ]
        }
      ]
    },
    {
      "cell_type": "code",
      "source": [
        "def linear_big_o(list):\n",
        "  for value in list:\n",
        "    print(value)"
      ],
      "metadata": {
        "id": "YGkoq_xM0aMD"
      },
      "execution_count": 5,
      "outputs": []
    },
    {
      "cell_type": "code",
      "source": [
        "linear_big_o([1,2,3,4,5])"
      ],
      "metadata": {
        "colab": {
          "base_uri": "https://localhost:8080/"
        },
        "id": "9w8x-tvG0ugD",
        "outputId": "3d573336-343b-4bde-96b2-ffdcaafd9da7"
      },
      "execution_count": 6,
      "outputs": [
        {
          "output_type": "stream",
          "name": "stdout",
          "text": [
            "1\n",
            "2\n",
            "3\n",
            "4\n",
            "5\n"
          ]
        }
      ]
    },
    {
      "cell_type": "code",
      "source": [
        "def cubic_big_o(list):\n",
        "  for item_1 in list:\n",
        "    for item_2 in list:\n",
        "      for item_3 in list:\n",
        "        print(item_1, item_2, item_3)"
      ],
      "metadata": {
        "id": "VeUo9FDM04PL"
      },
      "execution_count": 7,
      "outputs": []
    },
    {
      "cell_type": "code",
      "source": [
        "cubic_big_o([1,2,3])"
      ],
      "metadata": {
        "colab": {
          "base_uri": "https://localhost:8080/"
        },
        "id": "fbm51C3C1R1q",
        "outputId": "a168915e-4dd2-47bf-c5f3-c4be9a271dde"
      },
      "execution_count": 8,
      "outputs": [
        {
          "output_type": "stream",
          "name": "stdout",
          "text": [
            "1 1 1\n",
            "1 1 2\n",
            "1 1 3\n",
            "1 2 1\n",
            "1 2 2\n",
            "1 2 3\n",
            "1 3 1\n",
            "1 3 2\n",
            "1 3 3\n",
            "2 1 1\n",
            "2 1 2\n",
            "2 1 3\n",
            "2 2 1\n",
            "2 2 2\n",
            "2 2 3\n",
            "2 3 1\n",
            "2 3 2\n",
            "2 3 3\n",
            "3 1 1\n",
            "3 1 2\n",
            "3 1 3\n",
            "3 2 1\n",
            "3 2 2\n",
            "3 2 3\n",
            "3 3 1\n",
            "3 3 2\n",
            "3 3 3\n"
          ]
        }
      ]
    },
    {
      "cell_type": "code",
      "source": [
        "#O(1+n)=> O(n)\n",
        "def example(list):\n",
        "  print(list[0])  # O(1) constant\n",
        "\n",
        "  for each in list: # O(n) linear\n",
        "    print(each)"
      ],
      "metadata": {
        "id": "c2iBobUw1bGW"
      },
      "execution_count": 9,
      "outputs": []
    }
  ]
}